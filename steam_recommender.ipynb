{
 "cells": [
  {
   "cell_type": "code",
   "execution_count": 1,
   "id": "23b50a23",
   "metadata": {},
   "outputs": [
    {
     "name": "stderr",
     "output_type": "stream",
     "text": [
      "25/05/19 18:38:03 WARN Utils: Your hostname, javi-Z790-PG-SONIC resolves to a loopback address: 127.0.1.1; using 192.168.100.10 instead (on interface enp3s0)\n",
      "25/05/19 18:38:03 WARN Utils: Set SPARK_LOCAL_IP if you need to bind to another address\n",
      "Setting default log level to \"WARN\".\n",
      "To adjust logging level use sc.setLogLevel(newLevel). For SparkR, use setLogLevel(newLevel).\n",
      "25/05/19 18:38:03 WARN NativeCodeLoader: Unable to load native-hadoop library for your platform... using builtin-java classes where applicable\n"
     ]
    }
   ],
   "source": [
    "from pyspark.sql import SparkSession\n",
    "from pyspark.sql.functions import regexp_replace, split, when, col, array, concat, concat_ws\n",
    "from pyspark.ml.feature import BucketedRandomProjectionLSH, VectorAssembler, MinMaxScaler, Tokenizer, StopWordsRemover, CountVectorizer\n",
    "\n",
    "spark = SparkSession.builder.appName(\"SteamRecommender\").config('spark.driver.memory','8g').config('spark.executor.memory', '8g').getOrCreate()\n",
    "df = spark.read.csv(\"steam.csv\", header=True, inferSchema=True)"
   ]
  },
  {
   "cell_type": "code",
   "execution_count": 2,
   "id": "548c2c9d",
   "metadata": {},
   "outputs": [],
   "source": [
    "df1 = df\n",
    "df1 = df1.filter(df1['english'] == 1)\n",
    "df1 = df1.drop(*['release_date', 'english','platforms','required_age', 'average_playtime', 'median_playtime', 'genres', 'achievements'])"
   ]
  },
  {
   "cell_type": "code",
   "execution_count": 3,
   "id": "3bac824c",
   "metadata": {},
   "outputs": [],
   "source": [
    "columns_dict={'appid':'int', 'name':'string', 'developer':'string','publisher':'string','categories':'string',\n",
    "              'steamspy_tags':'string','positive_ratings':'int','negative_ratings':'int','owners':'string', 'price':'double'\n",
    "              }\n",
    "\n",
    "for column, type in columns_dict.items():\n",
    "    df1 = df1.withColumn(column, col(column).cast(type))\n",
    "df1 = df1.withColumn('developer', split(regexp_replace('developer', ' ',''), ';'))\n",
    "df1 = df1.withColumn('publisher', split(regexp_replace('publisher', ' ',''), ';'))\n",
    "df1 = df1.withColumn(\n",
    "    \"owners\",\n",
    "    when(col(\"owners\").contains(\"-\"),\n",
    "         ((split(col(\"owners\"), \"-\").getItem(0).cast(\"int\") +\n",
    "           split(col(\"owners\"), \"-\").getItem(1).cast(\"int\")) / 2).cast(\"int\"))\n",
    "    .otherwise(col(\"owners\").cast(\"int\"))\n",
    ")\n",
    "df1 = df1.withColumn('categories', split(regexp_replace(regexp_replace('categories', '-', ''), ' ', ''), ';'))\n",
    "df1 = df1.withColumn('steamspy_tags', split(regexp_replace(regexp_replace('steamspy_tags', '-', ''), ' ', ''), ';'))\n",
    "df1 = df1.withColumn('name_list', array(col('name')))\n"
   ]
  },
  {
   "cell_type": "code",
   "execution_count": 4,
   "id": "a2856a11",
   "metadata": {},
   "outputs": [],
   "source": [
    "numerical_columns = ['owners', 'price']\n",
    "ratings_df = df1.select('positive_ratings','negative_ratings')"
   ]
  },
  {
   "cell_type": "code",
   "execution_count": 5,
   "id": "14771a33",
   "metadata": {},
   "outputs": [],
   "source": [
    "assembler = VectorAssembler(inputCols=numerical_columns, outputCol=\"num_features\", handleInvalid='skip')\n",
    "assembled = assembler.transform(df1)"
   ]
  },
  {
   "cell_type": "code",
   "execution_count": 6,
   "id": "7c5a8b5a",
   "metadata": {},
   "outputs": [],
   "source": [
    "scaler = MinMaxScaler(inputCol=\"num_features\", outputCol=\"scaled_features\")\n",
    "scaler_model = scaler.fit(assembled)\n",
    "scaled_df = scaler_model.transform(assembled)"
   ]
  },
  {
   "cell_type": "code",
   "execution_count": 7,
   "id": "49ff3bc7",
   "metadata": {},
   "outputs": [],
   "source": [
    "# prepare the tags\n",
    "scaled_df = scaled_df.withColumn('tags', concat(col('name_list'),col('developer'), col('publisher'), col('categories'), col('steamspy_tags'))).withColumn('tags', concat_ws(' ', col('tags')))"
   ]
  },
  {
   "cell_type": "code",
   "execution_count": 8,
   "id": "6f1ab71f",
   "metadata": {},
   "outputs": [
    {
     "name": "stderr",
     "output_type": "stream",
     "text": [
      "                                                                                \r"
     ]
    }
   ],
   "source": [
    "\n",
    "tokenizer = Tokenizer(inputCol=\"tags\", outputCol=\"words\")\n",
    "words_df = tokenizer.transform(scaled_df)\n",
    "\n",
    "remover = StopWordsRemover(inputCol=\"words\", outputCol=\"filtered\")\n",
    "filtered_df = remover.transform(words_df)\n",
    "\n",
    "cv = CountVectorizer(inputCol=\"filtered\", outputCol=\"features\", vocabSize=3000, minDF=5)\n",
    "model = cv.fit(filtered_df)\n",
    "vectorized_df = model.transform(filtered_df)"
   ]
  },
  {
   "cell_type": "code",
   "execution_count": 9,
   "id": "2042d211",
   "metadata": {},
   "outputs": [],
   "source": [
    "final_assembler = VectorAssembler(\n",
    "    inputCols=['scaled_features', 'features'],\n",
    "    outputCol='final_features'\n",
    ")"
   ]
  },
  {
   "cell_type": "code",
   "execution_count": 10,
   "id": "186cf1e0",
   "metadata": {},
   "outputs": [],
   "source": [
    "final_df = final_assembler.transform(vectorized_df)"
   ]
  },
  {
   "cell_type": "code",
   "execution_count": 11,
   "id": "8fa748fc",
   "metadata": {},
   "outputs": [],
   "source": [
    "lsh = BucketedRandomProjectionLSH(inputCol=\"final_features\", outputCol=\"hashes\", bucketLength=2.0, numHashTables=5)\n",
    "lsh_model = lsh.fit(final_df)"
   ]
  },
  {
   "cell_type": "code",
   "execution_count": 12,
   "id": "bae1487d",
   "metadata": {},
   "outputs": [],
   "source": [
    "def recommend(game_name, top_n=5):\n",
    "        query_df = final_df.filter(final_df['name'] == game_name).select(\"final_features\")\n",
    "\n",
    "        if query_df.count() ==0:\n",
    "                return f'Game \"{game_name}\" not found in dataset'\n",
    "        \n",
    "        similar = lsh_model.approxSimilarityJoin(\n",
    "                datasetA=query_df,\n",
    "                datasetB=final_df,\n",
    "                threshold=float('inf'),\n",
    "                distCol='distance'\n",
    "        )\n",
    "\n",
    "        results = (\n",
    "        similar\n",
    "        .filter(similar.datasetB[\"name\"] != game_name)\n",
    "        .orderBy(\"distance\")\n",
    "        .select(similar.datasetB[\"name\"], \"distance\")\n",
    "        .limit(top_n)\n",
    "        .collect()\n",
    "    )\n",
    "\n",
    "        return [row[\"datasetB.name\"] for row in results]"
   ]
  },
  {
   "cell_type": "code",
   "execution_count": 13,
   "id": "ee7343b4",
   "metadata": {},
   "outputs": [
    {
     "name": "stderr",
     "output_type": "stream",
     "text": [
      "25/05/19 18:38:39 WARN SparkStringUtils: Truncated the string representation of a plan since it was too large. This behavior can be adjusted by setting 'spark.sql.debug.maxToStringFields'.\n",
      "                                                                                \r"
     ]
    },
    {
     "data": {
      "text/plain": [
       "['Ricochet',\n",
       " 'Deathmatch Classic',\n",
       " 'Team Fortress Classic',\n",
       " 'Counter-Strike: Condition Zero',\n",
       " 'Half-Life Deathmatch: Source']"
      ]
     },
     "execution_count": 13,
     "metadata": {},
     "output_type": "execute_result"
    }
   ],
   "source": [
    "recommend('Counter-Strike')"
   ]
  },
  {
   "cell_type": "code",
   "execution_count": 15,
   "id": "21a0c02c",
   "metadata": {},
   "outputs": [
    {
     "data": {
      "text/plain": [
       "['Counter-Strike',\n",
       " 'Deathmatch Classic',\n",
       " 'Half-Life Deathmatch: Source',\n",
       " 'Counter-Strike: Condition Zero',\n",
       " 'Day of Defeat']"
      ]
     },
     "execution_count": 15,
     "metadata": {},
     "output_type": "execute_result"
    }
   ],
   "source": [
    "recommend('Ricochet')"
   ]
  },
  {
   "cell_type": "code",
   "execution_count": 116,
   "id": "5e44f5d8",
   "metadata": {},
   "outputs": [],
   "source": [
    "# next steps:\n",
    "# clean up\n",
    "# do protection against game names (lookup, like?)\n",
    "# publish to github\n",
    "# create GUI"
   ]
  },
  {
   "cell_type": "code",
   "execution_count": null,
   "id": "0f01d5e8",
   "metadata": {},
   "outputs": [],
   "source": []
  }
 ],
 "metadata": {
  "kernelspec": {
   "display_name": ".venv",
   "language": "python",
   "name": "python3"
  },
  "language_info": {
   "codemirror_mode": {
    "name": "ipython",
    "version": 3
   },
   "file_extension": ".py",
   "mimetype": "text/x-python",
   "name": "python",
   "nbconvert_exporter": "python",
   "pygments_lexer": "ipython3",
   "version": "3.12.3"
  }
 },
 "nbformat": 4,
 "nbformat_minor": 5
}
